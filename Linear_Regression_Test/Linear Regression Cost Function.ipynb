{
 "cells": [
  {
   "cell_type": "code",
   "execution_count": 1,
   "id": "b99d34d7",
   "metadata": {},
   "outputs": [],
   "source": [
    "import numpy as np\n",
    "import matplotlib.pyplot as plt\n",
    "import os\n",
    "import sys\n",
    "\n",
    "module_path = os.path.abspath(os.path.join('..'))\n",
    "if module_path not in sys.path:\n",
    "    sys.path.append(module_path)\n",
    "    \n",
    "from Linear_Model.linear_regression import Linear_Regression"
   ]
  },
  {
   "cell_type": "code",
   "execution_count": 2,
   "id": "a316252c",
   "metadata": {},
   "outputs": [],
   "source": [
    "x_train = np.array([1.0, 1.7, 2.0, 2.5, 3.0, 3.2])\n",
    "y_train = np.array([250, 300, 480, 430, 630, 730])"
   ]
  },
  {
   "cell_type": "code",
   "execution_count": 3,
   "id": "6cfa5605",
   "metadata": {},
   "outputs": [],
   "source": [
    "w = 100\n",
    "b = 100"
   ]
  },
  {
   "cell_type": "code",
   "execution_count": 4,
   "id": "f74d3db2",
   "metadata": {},
   "outputs": [],
   "source": [
    "lr = Linear_Regression()"
   ]
  },
  {
   "cell_type": "code",
   "execution_count": 5,
   "id": "57221fd2",
   "metadata": {},
   "outputs": [
    {
     "data": {
      "text/plain": [
       "15933.333333333334"
      ]
     },
     "execution_count": 5,
     "metadata": {},
     "output_type": "execute_result"
    }
   ],
   "source": [
    "lr.compute_cost(x_train, y_train, w, b)"
   ]
  },
  {
   "cell_type": "code",
   "execution_count": 6,
   "id": "183a6ba0",
   "metadata": {},
   "outputs": [],
   "source": [
    "w = 120"
   ]
  },
  {
   "cell_type": "code",
   "execution_count": 7,
   "id": "9ef001e8",
   "metadata": {},
   "outputs": [
    {
     "data": {
      "text/plain": [
       "9236.0"
      ]
     },
     "execution_count": 7,
     "metadata": {},
     "output_type": "execute_result"
    }
   ],
   "source": [
    "lr.compute_cost(x_train, y_train, w, b)"
   ]
  },
  {
   "cell_type": "code",
   "execution_count": 8,
   "id": "2533286e",
   "metadata": {},
   "outputs": [
    {
     "data": {
      "text/plain": [
       "3362.5"
      ]
     },
     "execution_count": 8,
     "metadata": {},
     "output_type": "execute_result"
    }
   ],
   "source": [
    "w = 150\n",
    "lr.compute_cost(x_train, y_train, w, b)"
   ]
  },
  {
   "cell_type": "code",
   "execution_count": 9,
   "id": "d5fbddc2",
   "metadata": {},
   "outputs": [
    {
     "data": {
      "text/plain": [
       "2228.5"
      ]
     },
     "execution_count": 9,
     "metadata": {},
     "output_type": "execute_result"
    }
   ],
   "source": [
    "w = 170\n",
    "lr.compute_cost(x_train, y_train, w, b)"
   ]
  },
  {
   "cell_type": "code",
   "execution_count": 10,
   "id": "c9a6ea1b",
   "metadata": {},
   "outputs": [
    {
     "data": {
      "text/plain": [
       "3319.8333333333335"
      ]
     },
     "execution_count": 10,
     "metadata": {},
     "output_type": "execute_result"
    }
   ],
   "source": [
    "w = 190\n",
    "lr.compute_cost(x_train, y_train, w, b)"
   ]
  },
  {
   "cell_type": "code",
   "execution_count": 11,
   "id": "a9fd81c4",
   "metadata": {},
   "outputs": [
    {
     "data": {
      "text/plain": [
       "4700.0"
      ]
     },
     "execution_count": 11,
     "metadata": {},
     "output_type": "execute_result"
    }
   ],
   "source": [
    "w = 200\n",
    "lr.compute_cost(x_train, y_train, w, b)"
   ]
  },
  {
   "cell_type": "code",
   "execution_count": 12,
   "id": "f8f5d084",
   "metadata": {},
   "outputs": [
    {
     "data": {
      "text/plain": [
       "2621.8333333333335"
      ]
     },
     "execution_count": 12,
     "metadata": {},
     "output_type": "execute_result"
    }
   ],
   "source": [
    "w = 170\n",
    "b = 120\n",
    "lr.compute_cost(x_train, y_train, w, b)"
   ]
  },
  {
   "cell_type": "code",
   "execution_count": 13,
   "id": "b43c270a",
   "metadata": {},
   "outputs": [
    {
     "data": {
      "text/plain": [
       "2235.1666666666665"
      ]
     },
     "execution_count": 13,
     "metadata": {},
     "output_type": "execute_result"
    }
   ],
   "source": [
    "w = 170\n",
    "b = 80\n",
    "lr.compute_cost(x_train, y_train, w, b)"
   ]
  },
  {
   "cell_type": "code",
   "execution_count": 14,
   "id": "d8d89e50",
   "metadata": {},
   "outputs": [
    {
     "data": {
      "text/plain": [
       "3347.3333333333335"
      ]
     },
     "execution_count": 14,
     "metadata": {},
     "output_type": "execute_result"
    }
   ],
   "source": [
    "w = 160\n",
    "b = 70\n",
    "lr.compute_cost(x_train, y_train, w, b)"
   ]
  },
  {
   "cell_type": "code",
   "execution_count": 18,
   "id": "1d0bc8eb",
   "metadata": {},
   "outputs": [],
   "source": [
    "def mk_cost_lines(x,y,w,b, ax):\n",
    "    ''' makes vertical cost lines'''\n",
    "    cstr = \"cost = (1/m)*(\"\n",
    "    ctot = 0\n",
    "    label = 'cost for point'\n",
    "    addedbreak = False\n",
    "    for p in zip(x,y):\n",
    "        f_wb_p = w*p[0]+b\n",
    "        c_p = ((f_wb_p - p[1])**2)/2\n",
    "        c_p_txt = c_p\n",
    "        ax.vlines(p[0], p[1],f_wb_p, lw=3, color=dlpurple, ls='dotted', label=label)\n",
    "        label='' #just one\n",
    "        cxy = [p[0], p[1] + (f_wb_p-p[1])/2]\n",
    "        ax.annotate(f'{c_p_txt:0.0f}', xy=cxy, xycoords='data',color=dlpurple,\n",
    "            xytext=(5, 0), textcoords='offset points')\n",
    "        cstr += f\"{c_p_txt:0.0f} +\"\n",
    "        if len(cstr) > 38 and addedbreak is False:\n",
    "            cstr += \"\\n\"\n",
    "            addedbreak = True\n",
    "        ctot += c_p\n",
    "    ctot = ctot/(len(x))\n",
    "    cstr = cstr[:-1] + f\") = {ctot:0.0f}\"\n",
    "    ax.text(0.15,0.02,cstr, transform=ax.transAxes, color=dlpurple)"
   ]
  },
  {
   "cell_type": "code",
   "execution_count": null,
   "id": "1e151ec8",
   "metadata": {},
   "outputs": [],
   "source": [
    "plt.fig"
   ]
  }
 ],
 "metadata": {
  "kernelspec": {
   "display_name": "Python 3 (ipykernel)",
   "language": "python",
   "name": "python3"
  },
  "language_info": {
   "codemirror_mode": {
    "name": "ipython",
    "version": 3
   },
   "file_extension": ".py",
   "mimetype": "text/x-python",
   "name": "python",
   "nbconvert_exporter": "python",
   "pygments_lexer": "ipython3",
   "version": "3.9.13"
  }
 },
 "nbformat": 4,
 "nbformat_minor": 5
}
