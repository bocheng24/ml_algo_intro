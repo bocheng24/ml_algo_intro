{
 "cells": [
  {
   "cell_type": "code",
   "execution_count": 1,
   "id": "3e006625",
   "metadata": {},
   "outputs": [],
   "source": [
    "import numpy as np\n",
    "import matplotlib.pyplot as plt\n",
    "import os\n",
    "import sys\n",
    "\n",
    "module_path = os.path.abspath(os.path.join('..'))\n",
    "if module_path not in sys.path:\n",
    "    sys.path.append(module_path)\n",
    "    \n",
    "from Linear_Model.linear_regression import Linear_Regression"
   ]
  },
  {
   "cell_type": "code",
   "execution_count": 2,
   "id": "f517da29",
   "metadata": {},
   "outputs": [],
   "source": [
    "# Load our data set\n",
    "x_train = np.array([1.0, 2.0])   #features\n",
    "y_train = np.array([300.0, 500.0])   #target value"
   ]
  },
  {
   "cell_type": "code",
   "execution_count": 3,
   "id": "25e8e774",
   "metadata": {},
   "outputs": [
    {
     "data": {
      "text/plain": [
       "2"
      ]
     },
     "execution_count": 3,
     "metadata": {},
     "output_type": "execute_result"
    }
   ],
   "source": [
    "x_train.shape[0]"
   ]
  },
  {
   "cell_type": "code",
   "execution_count": 4,
   "id": "a5a3dfd9",
   "metadata": {},
   "outputs": [],
   "source": [
    "lr = Linear_Regression()"
   ]
  },
  {
   "cell_type": "code",
   "execution_count": 5,
   "id": "c376171d",
   "metadata": {},
   "outputs": [
    {
     "ename": "NameError",
     "evalue": "name 'w_init' is not defined",
     "output_type": "error",
     "traceback": [
      "\u001b[0;31m---------------------------------------------------------------------------\u001b[0m",
      "\u001b[0;31mNameError\u001b[0m                                 Traceback (most recent call last)",
      "\u001b[0;32m/var/folders/_h/619f82fx2fn5wkxzvj78fp9c0000gn/T/ipykernel_95078/1086864837.py\u001b[0m in \u001b[0;36m<module>\u001b[0;34m\u001b[0m\n\u001b[0;32m----> 1\u001b[0;31m \u001b[0mlr\u001b[0m\u001b[0;34m.\u001b[0m\u001b[0mcompute_cost\u001b[0m\u001b[0;34m(\u001b[0m\u001b[0mx_train\u001b[0m\u001b[0;34m,\u001b[0m \u001b[0my_train\u001b[0m\u001b[0;34m,\u001b[0m \u001b[0mw_init\u001b[0m\u001b[0;34m,\u001b[0m \u001b[0mb_init\u001b[0m\u001b[0;34m)\u001b[0m\u001b[0;34m\u001b[0m\u001b[0;34m\u001b[0m\u001b[0m\n\u001b[0m",
      "\u001b[0;31mNameError\u001b[0m: name 'w_init' is not defined"
     ]
    }
   ],
   "source": [
    "lr.compute_cost(x_train, y_train, w_init, b_init)"
   ]
  },
  {
   "cell_type": "code",
   "execution_count": 8,
   "id": "8cc547a7",
   "metadata": {},
   "outputs": [
    {
     "name": "stdout",
     "output_type": "stream",
     "text": [
      "Iteration    0: Cost 7.93e+04 djdw: -6.500e+02, djdb: -4.000e+02 w:  6.500e+00, b:  4.00000e+00\n",
      "Iteration  1000: Cost 3.41e+00 djdw: -3.712e-01, djdb:  6.007e-01 w:  1.949e+02, b:  1.08228e+02\n",
      "Iteration  2000: Cost 7.93e-01 djdw: -1.789e-01, djdb:  2.895e-01 w:  1.975e+02, b:  1.03966e+02\n",
      "Iteration  3000: Cost 1.84e-01 djdw: -8.625e-02, djdb:  1.396e-01 w:  1.988e+02, b:  1.01912e+02\n",
      "Iteration  4000: Cost 4.28e-02 djdw: -4.158e-02, djdb:  6.727e-02 w:  1.994e+02, b:  1.00922e+02\n",
      "Iteration  5000: Cost 9.95e-03 djdw: -2.004e-02, djdb:  3.243e-02 w:  1.997e+02, b:  1.00444e+02\n",
      "Iteration  6000: Cost 2.31e-03 djdw: -9.660e-03, djdb:  1.563e-02 w:  1.999e+02, b:  1.00214e+02\n",
      "Iteration  7000: Cost 5.37e-04 djdw: -4.657e-03, djdb:  7.535e-03 w:  1.999e+02, b:  1.00103e+02\n",
      "Iteration  8000: Cost 1.25e-04 djdw: -2.245e-03, djdb:  3.632e-03 w:  2.000e+02, b:  1.00050e+02\n",
      "Iteration  9000: Cost 2.90e-05 djdw: -1.082e-03, djdb:  1.751e-03 w:  2.000e+02, b:  1.00024e+02\n",
      "(w,b) found by gradient descent: (199.9929,100.0116)\n"
     ]
    }
   ],
   "source": [
    "# initialize parameters\n",
    "w_init = 0\n",
    "b_init = 0\n",
    "# some gradient descent settings\n",
    "iterations = 10000\n",
    "tmp_alpha = 1.0e-2\n",
    "# run gradient descent\n",
    "w_final, b_final, J_hist, p_hist = lr.gradient_descent(x_train, \n",
    "                                                       y_train, \n",
    "                                                       w_init, \n",
    "                                                       b_init, \n",
    "                                                       tmp_alpha, \n",
    "                                                       iterations\n",
    "                                                      )\n",
    "print(f\"(w,b) found by gradient descent: ({w_final:8.4f},{b_final:8.4f})\")"
   ]
  },
  {
   "cell_type": "code",
   "execution_count": 9,
   "id": "8e0dbaee",
   "metadata": {},
   "outputs": [],
   "source": [
    "f_wb = lr.predict(x_train, w_init, b_init)"
   ]
  },
  {
   "cell_type": "code",
   "execution_count": 10,
   "id": "f57be5e0",
   "metadata": {},
   "outputs": [
    {
     "data": {
      "text/plain": [
       "array([0., 0.])"
      ]
     },
     "execution_count": 10,
     "metadata": {},
     "output_type": "execute_result"
    }
   ],
   "source": [
    "f_wb"
   ]
  },
  {
   "cell_type": "code",
   "execution_count": 12,
   "id": "ecad991c",
   "metadata": {},
   "outputs": [
    {
     "data": {
      "text/plain": [
       "array([-300., -500.])"
      ]
     },
     "execution_count": 12,
     "metadata": {},
     "output_type": "execute_result"
    }
   ],
   "source": [
    "f_wb - y_train"
   ]
  },
  {
   "cell_type": "code",
   "execution_count": 13,
   "id": "63520d7a",
   "metadata": {},
   "outputs": [
    {
     "data": {
      "text/plain": [
       "array([ -300., -1000.])"
      ]
     },
     "execution_count": 13,
     "metadata": {},
     "output_type": "execute_result"
    }
   ],
   "source": [
    "(f_wb - y_train) * x_train"
   ]
  },
  {
   "cell_type": "code",
   "execution_count": 14,
   "id": "220ea5b0",
   "metadata": {},
   "outputs": [
    {
     "data": {
      "text/plain": [
       "-650.0"
      ]
     },
     "execution_count": 14,
     "metadata": {},
     "output_type": "execute_result"
    }
   ],
   "source": [
    "((f_wb - y_train) * x_train).mean()"
   ]
  },
  {
   "cell_type": "code",
   "execution_count": 15,
   "id": "563203f4",
   "metadata": {},
   "outputs": [
    {
     "data": {
      "text/plain": [
       "-650.0"
      ]
     },
     "execution_count": 15,
     "metadata": {},
     "output_type": "execute_result"
    }
   ],
   "source": [
    "np.mean((f_wb - y_train) * x_train)"
   ]
  },
  {
   "cell_type": "code",
   "execution_count": null,
   "id": "c35c0c21",
   "metadata": {},
   "outputs": [],
   "source": []
  }
 ],
 "metadata": {
  "kernelspec": {
   "display_name": "Python 3 (ipykernel)",
   "language": "python",
   "name": "python3"
  },
  "language_info": {
   "codemirror_mode": {
    "name": "ipython",
    "version": 3
   },
   "file_extension": ".py",
   "mimetype": "text/x-python",
   "name": "python",
   "nbconvert_exporter": "python",
   "pygments_lexer": "ipython3",
   "version": "3.9.13"
  }
 },
 "nbformat": 4,
 "nbformat_minor": 5
}
