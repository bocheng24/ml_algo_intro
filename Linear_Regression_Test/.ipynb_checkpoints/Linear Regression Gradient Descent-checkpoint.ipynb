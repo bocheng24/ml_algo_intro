{
 "cells": [
  {
   "cell_type": "code",
   "execution_count": 1,
   "id": "3e006625",
   "metadata": {},
   "outputs": [],
   "source": [
    "import numpy as np\n",
    "import matplotlib.pyplot as plt\n",
    "import os\n",
    "import sys\n",
    "\n",
    "module_path = os.path.abspath(os.path.join('..'))\n",
    "if module_path not in sys.path:\n",
    "    sys.path.append(module_path)\n",
    "    \n",
    "from Linear_Model.linear_regression import Linear_Regression"
   ]
  },
  {
   "cell_type": "code",
   "execution_count": 2,
   "id": "f517da29",
   "metadata": {},
   "outputs": [],
   "source": [
    "x_train = np.array([1.0, 1.7, 2.0, 2.5, 3.0, 3.2])\n",
    "y_train = np.array([250, 300, 480, 430, 630, 730])"
   ]
  },
  {
   "cell_type": "code",
   "execution_count": 3,
   "id": "57265922",
   "metadata": {},
   "outputs": [],
   "source": [
    "w = 100\n",
    "b = 100"
   ]
  },
  {
   "cell_type": "code",
   "execution_count": 4,
   "id": "a5a3dfd9",
   "metadata": {},
   "outputs": [],
   "source": [
    "lr = Linear_Regression()"
   ]
  },
  {
   "cell_type": "code",
   "execution_count": 5,
   "id": "8cc547a7",
   "metadata": {},
   "outputs": [
    {
     "data": {
      "text/plain": [
       "15933.333333333334"
      ]
     },
     "execution_count": 5,
     "metadata": {},
     "output_type": "execute_result"
    }
   ],
   "source": [
    "lr.compute_cost(x_train, y_train, w, b)"
   ]
  },
  {
   "cell_type": "code",
   "execution_count": 6,
   "id": "de17468e",
   "metadata": {},
   "outputs": [],
   "source": [
    "w = 120"
   ]
  },
  {
   "cell_type": "code",
   "execution_count": 7,
   "id": "925c7325",
   "metadata": {},
   "outputs": [
    {
     "data": {
      "text/plain": [
       "9236.0"
      ]
     },
     "execution_count": 7,
     "metadata": {},
     "output_type": "execute_result"
    }
   ],
   "source": [
    "lr.compute_cost(x_train, y_train, w, b)"
   ]
  },
  {
   "cell_type": "code",
   "execution_count": 8,
   "id": "002dbbc5",
   "metadata": {},
   "outputs": [
    {
     "data": {
      "text/plain": [
       "3362.5"
      ]
     },
     "execution_count": 8,
     "metadata": {},
     "output_type": "execute_result"
    }
   ],
   "source": [
    "w = 150\n",
    "lr.compute_cost(x_train, y_train, w, b)"
   ]
  },
  {
   "cell_type": "code",
   "execution_count": 9,
   "id": "f8793d11",
   "metadata": {},
   "outputs": [
    {
     "data": {
      "text/plain": [
       "2228.5"
      ]
     },
     "execution_count": 9,
     "metadata": {},
     "output_type": "execute_result"
    }
   ],
   "source": [
    "w = 170\n",
    "lr.compute_cost(x_train, y_train, w, b)"
   ]
  },
  {
   "cell_type": "code",
   "execution_count": 10,
   "id": "a623bc56",
   "metadata": {},
   "outputs": [
    {
     "data": {
      "text/plain": [
       "3319.8333333333335"
      ]
     },
     "execution_count": 10,
     "metadata": {},
     "output_type": "execute_result"
    }
   ],
   "source": [
    "w = 190\n",
    "lr.compute_cost(x_train, y_train, w, b)"
   ]
  },
  {
   "cell_type": "code",
   "execution_count": 11,
   "id": "0bf73e48",
   "metadata": {},
   "outputs": [
    {
     "data": {
      "text/plain": [
       "4700.0"
      ]
     },
     "execution_count": 11,
     "metadata": {},
     "output_type": "execute_result"
    }
   ],
   "source": [
    "w = 200\n",
    "lr.compute_cost(x_train, y_train, w, b)"
   ]
  },
  {
   "cell_type": "code",
   "execution_count": 12,
   "id": "3b439f56",
   "metadata": {},
   "outputs": [
    {
     "data": {
      "text/plain": [
       "2621.8333333333335"
      ]
     },
     "execution_count": 12,
     "metadata": {},
     "output_type": "execute_result"
    }
   ],
   "source": [
    "w = 170\n",
    "b = 120\n",
    "lr.compute_cost(x_train, y_train, w, b)"
   ]
  },
  {
   "cell_type": "code",
   "execution_count": 13,
   "id": "4f2dfb7e",
   "metadata": {},
   "outputs": [
    {
     "data": {
      "text/plain": [
       "2235.1666666666665"
      ]
     },
     "execution_count": 13,
     "metadata": {},
     "output_type": "execute_result"
    }
   ],
   "source": [
    "w = 170\n",
    "b = 80\n",
    "lr.compute_cost(x_train, y_train, w, b)"
   ]
  },
  {
   "cell_type": "code",
   "execution_count": 14,
   "id": "752d4c57",
   "metadata": {},
   "outputs": [
    {
     "data": {
      "text/plain": [
       "3347.3333333333335"
      ]
     },
     "execution_count": 14,
     "metadata": {},
     "output_type": "execute_result"
    }
   ],
   "source": [
    "w = 160\n",
    "b = 70\n",
    "lr.compute_cost(x_train, y_train, w, b)"
   ]
  }
 ],
 "metadata": {
  "kernelspec": {
   "display_name": "Python 3 (ipykernel)",
   "language": "python",
   "name": "python3"
  },
  "language_info": {
   "codemirror_mode": {
    "name": "ipython",
    "version": 3
   },
   "file_extension": ".py",
   "mimetype": "text/x-python",
   "name": "python",
   "nbconvert_exporter": "python",
   "pygments_lexer": "ipython3",
   "version": "3.9.13"
  }
 },
 "nbformat": 4,
 "nbformat_minor": 5
}
